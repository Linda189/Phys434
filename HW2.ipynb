{
 "cells": [
  {
   "cell_type": "markdown",
   "metadata": {},
   "source": [
    "# Homework #2\n",
    "Please turn this homework in using a GitHub pull request comment to your TA. You will want to start with a new branch (independent of your lab branches).\n",
    "\n"
   ]
  },
  {
   "cell_type": "markdown",
   "metadata": {},
   "source": [
    "1) A little introductory brain teaser. Which is more probable when rolling 2 six-sided dice: rolling snake eyes (two ones) or rolling sevens (dice sum to seven)? What is the ratio of the probabilities?"
   ]
  },
  {
   "cell_type": "markdown",
   "metadata": {},
   "source": [
    "When rolling 2 six-sided dice, there is only one way to get snake eyes by rolling 1 for both dice (the probability is $ \\frac{1}{36}$).\n",
    "And there are more ways to roll sevens, we can get 7 by rolling 1 and 6, 2 and 5, 3 and 4, 4 and 3, 5 and 2, 6 and 1. the probability to roll 7 is $\\frac{6}{36}=\\frac{1}{6}$.\n",
    "The ratio of the probabilities is 1:6"
   ]
  },
  {
   "cell_type": "markdown",
   "metadata": {},
   "source": [
    "2) Following what we did in class show how to use the convolution operator to determine the probability of the sum of 2 six sided dice. Do both analytically (math & counting) and numerically (computer program). Beware the implicit definition of the values (x-axis on histogram)."
   ]
  },
  {
   "cell_type": "markdown",
   "metadata": {},
   "source": [
    "Analytically (math & counting):\n",
    "\n",
    "\n",
    "$$P_2=\\frac{1}{36},P_3=\\frac{2}{36},P_4=\\frac{3}{36},P_5=\\frac{4}{36},P_6=\\frac{5}{36},P_7=\\frac{6}{36},P_8=\\frac{5}{36},P_9=\\frac{4}{36},P_{10}=\\frac{3}{36},P_{11}=\\frac{2}{36},P_{12}=\\frac{1}{36}$$\n"
   ]
  },
  {
   "cell_type": "code",
   "execution_count": 57,
   "metadata": {},
   "outputs": [
    {
     "data": {
      "image/png": "[encoded data removed]",
      "text/plain": [
       "<Figure size 432x288 with 1 Axes>"
      ]
     },
     "metadata": {
      "needs_background": "light"
     },
     "output_type": "display_data"
    }
   ],
   "source": [
    "%matplotlib inline\n",
    "import numpy as np\n",
    "import matplotlib\n",
    "import matplotlib.pyplot as plt\n",
    "import scipy\n",
    "from scipy import signal\n",
    "\n",
    "d = np.array([2,3,3,4,4,4,5,5,5,5,6,6,6,6,6,7,7,7,7,7,7,8,8,8,8,8,9,9,9,9,10,10,10,11,11,12])\n",
    "ax=plt.hist(d,density=True,bins=11)\n",
    "plt.xlim([1,14])\n",
    "plt.xlabel('Outcome x', size=12)\n",
    "plt.ylabel('Probability', size=12)\n",
    "plt.title('Histogram of the sum of 2 dices', size=18)\n",
    "plt.show()"
   ]
  },
  {
   "cell_type": "code",
   "execution_count": 58,
   "metadata": {},
   "outputs": [
    {
     "data": {
      "image/png": "[encoded data removed]",
      "text/plain": [
       "<Figure size 432x288 with 1 Axes>"
      ]
     },
     "metadata": {
      "needs_background": "light"
     },
     "output_type": "display_data"
    }
   ],
   "source": [
    "probs =[1/6,1/6,1/6,1/6,1/6,1/6]\n",
    "sums = scipy.signal.fftconvolve(probs,probs); \n",
    "x=np.array([1,2,3,4,5,6]);\n",
    "n=2;\n",
    "xmin=x[0]*n;\n",
    "xmax=x[len(x)-1]*n\n",
    "x1=np.arange(xmin,xmax+1)\n",
    "ax=plt.bar(x1,sums);\n",
    "plt.show()"
   ]
  },
  {
   "cell_type": "markdown",
   "metadata": {},
   "source": [
    "3) Calculate the mean and the variance of the distribution in problem 2. Hint: this is surprisingly tricky, make sure your result makes sense."
   ]
  },
  {
   "cell_type": "code",
   "execution_count": 59,
   "metadata": {},
   "outputs": [
    {
     "name": "stdout",
     "output_type": "stream",
     "text": [
      "the mean is 7.0\n"
     ]
    }
   ],
   "source": [
    "mean=0\n",
    "for i in range(len(x1)):\n",
    "    mean=mean+x1[i]*sums[i]\n",
    "print('the mean is',mean)\n"
   ]
  },
  {
   "cell_type": "code",
   "execution_count": 60,
   "metadata": {},
   "outputs": [
    {
     "name": "stdout",
     "output_type": "stream",
     "text": [
      "the variance is  5.833333333333334\n"
     ]
    }
   ],
   "source": [
    "var=0\n",
    "for i in range(len(x1)):\n",
    "    var=var+((x1[i]-mean)**2)*sums[i]\n",
    "print('the variance is ',var)"
   ]
  },
  {
   "cell_type": "markdown",
   "metadata": {},
   "source": [
    "4) Repeat 2, and graph the average of 10 dice. Is this is a Gaussian distribution? Explain in depth."
   ]
  },
  {
   "cell_type": "code",
   "execution_count": 61,
   "metadata": {},
   "outputs": [
    {
     "data": {
      "image/png": "[encoded data removed]",
      "text/plain": [
       "<Figure size 432x288 with 1 Axes>"
      ]
     },
     "metadata": {
      "needs_background": "light"
     },
     "output_type": "display_data"
    }
   ],
   "source": [
    "prob =[1/6,1/6,1/6,1/6,1/6,1/6]\n",
    "sums2 = scipy.signal.fftconvolve(prob,prob); \n",
    "sums4 = scipy.signal.fftconvolve(sums2,sums2); \n",
    "sums8= scipy.signal.fftconvolve(sums4,sums4);\n",
    "sums10=scipy.signal.fftconvolve(sums8,sums2);\n",
    "x=np.array([1,2,3,4,5,6]);\n",
    "n=10\n",
    "xmin=x[0]*n;\n",
    "xmax=x[len(x)-1]*n\n",
    "x1=np.arange(xmin,xmax+1)\n",
    "ax=plt.bar(x1,sums10)\n",
    "plt.show()"
   ]
  },
  {
   "cell_type": "code",
   "execution_count": 62,
   "metadata": {},
   "outputs": [
    {
     "data": {
      "image/png": "[encoded data removed]",
      "text/plain": [
       "<Figure size 432x288 with 1 Axes>"
      ]
     },
     "metadata": {
      "needs_background": "light"
     },
     "output_type": "display_data"
    }
   ],
   "source": [
    "avg=x1/n;\n",
    "ax=plt.bar(avg,sums10)\n",
    "plt.show()"
   ]
  },
  {
   "cell_type": "code",
   "execution_count": null,
   "metadata": {},
   "outputs": [],
   "source": []
  },
  {
   "cell_type": "markdown",
   "metadata": {},
   "source": [
    "5) Show that the sum and average of an initially Gaussian distribution is also a Guassian (can be analytic or numerical). How does the standard deviation of the resulting sum or average Guassian change? This is a hugely important result. Explore what this means for integrating a signal over time."
   ]
  },
  {
   "cell_type": "markdown",
   "metadata": {},
   "source": []
  }
 ],
 "metadata": {
  "kernelspec": {
   "display_name": "Python 3",
   "language": "python",
   "name": "python3"
  },
  "language_info": {
   "codemirror_mode": {
    "name": "ipython",
    "version": 3
   },
   "file_extension": ".py",
   "mimetype": "text/x-python",
   "name": "python",
   "nbconvert_exporter": "python",
   "pygments_lexer": "ipython3",
   "version": "3.8.3"
  }
 },
 "nbformat": 4,
 "nbformat_minor": 4
}
